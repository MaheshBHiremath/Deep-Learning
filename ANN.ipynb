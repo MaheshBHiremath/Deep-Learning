{
  "nbformat": 4,
  "nbformat_minor": 0,
  "metadata": {
    "colab": {
      "name": "Assignment.ipynb",
      "provenance": []
    },
    "kernelspec": {
      "name": "python3",
      "display_name": "Python 3"
    },
    "language_info": {
      "name": "python"
    }
  },
  "cells": [
    {
      "cell_type": "code",
      "metadata": {
        "id": "CAQ9GM1UOuh6"
      },
      "source": [
        "import pandas as pd\n",
        "import seaborn as sns\n",
        "import numpy as np\n",
        "from tensorflow.keras.models import Sequential\n",
        "from tensorflow.keras.layers import Activation\n",
        "from tensorflow.keras.layers import Dense\n",
        "from tensorflow.keras.optimizers import Adam\n",
        "from tensorflow.keras.metrics import categorical_crossentropy"
      ],
      "execution_count": null,
      "outputs": []
    },
    {
      "cell_type": "code",
      "metadata": {
        "colab": {
          "base_uri": "https://localhost:8080/",
          "height": 419
        },
        "id": "EdoljJbhPDtJ",
        "outputId": "32c1289c-27fe-41a9-81ff-a37fe8ed1bc1"
      },
      "source": [
        "df=sns.load_dataset(\"iris\")\n",
        "df"
      ],
      "execution_count": null,
      "outputs": [
        {
          "output_type": "execute_result",
          "data": {
            "text/html": [
              "<div>\n",
              "<style scoped>\n",
              "    .dataframe tbody tr th:only-of-type {\n",
              "        vertical-align: middle;\n",
              "    }\n",
              "\n",
              "    .dataframe tbody tr th {\n",
              "        vertical-align: top;\n",
              "    }\n",
              "\n",
              "    .dataframe thead th {\n",
              "        text-align: right;\n",
              "    }\n",
              "</style>\n",
              "<table border=\"1\" class=\"dataframe\">\n",
              "  <thead>\n",
              "    <tr style=\"text-align: right;\">\n",
              "      <th></th>\n",
              "      <th>sepal_length</th>\n",
              "      <th>sepal_width</th>\n",
              "      <th>petal_length</th>\n",
              "      <th>petal_width</th>\n",
              "      <th>species</th>\n",
              "    </tr>\n",
              "  </thead>\n",
              "  <tbody>\n",
              "    <tr>\n",
              "      <th>0</th>\n",
              "      <td>5.1</td>\n",
              "      <td>3.5</td>\n",
              "      <td>1.4</td>\n",
              "      <td>0.2</td>\n",
              "      <td>setosa</td>\n",
              "    </tr>\n",
              "    <tr>\n",
              "      <th>1</th>\n",
              "      <td>4.9</td>\n",
              "      <td>3.0</td>\n",
              "      <td>1.4</td>\n",
              "      <td>0.2</td>\n",
              "      <td>setosa</td>\n",
              "    </tr>\n",
              "    <tr>\n",
              "      <th>2</th>\n",
              "      <td>4.7</td>\n",
              "      <td>3.2</td>\n",
              "      <td>1.3</td>\n",
              "      <td>0.2</td>\n",
              "      <td>setosa</td>\n",
              "    </tr>\n",
              "    <tr>\n",
              "      <th>3</th>\n",
              "      <td>4.6</td>\n",
              "      <td>3.1</td>\n",
              "      <td>1.5</td>\n",
              "      <td>0.2</td>\n",
              "      <td>setosa</td>\n",
              "    </tr>\n",
              "    <tr>\n",
              "      <th>4</th>\n",
              "      <td>5.0</td>\n",
              "      <td>3.6</td>\n",
              "      <td>1.4</td>\n",
              "      <td>0.2</td>\n",
              "      <td>setosa</td>\n",
              "    </tr>\n",
              "    <tr>\n",
              "      <th>...</th>\n",
              "      <td>...</td>\n",
              "      <td>...</td>\n",
              "      <td>...</td>\n",
              "      <td>...</td>\n",
              "      <td>...</td>\n",
              "    </tr>\n",
              "    <tr>\n",
              "      <th>145</th>\n",
              "      <td>6.7</td>\n",
              "      <td>3.0</td>\n",
              "      <td>5.2</td>\n",
              "      <td>2.3</td>\n",
              "      <td>virginica</td>\n",
              "    </tr>\n",
              "    <tr>\n",
              "      <th>146</th>\n",
              "      <td>6.3</td>\n",
              "      <td>2.5</td>\n",
              "      <td>5.0</td>\n",
              "      <td>1.9</td>\n",
              "      <td>virginica</td>\n",
              "    </tr>\n",
              "    <tr>\n",
              "      <th>147</th>\n",
              "      <td>6.5</td>\n",
              "      <td>3.0</td>\n",
              "      <td>5.2</td>\n",
              "      <td>2.0</td>\n",
              "      <td>virginica</td>\n",
              "    </tr>\n",
              "    <tr>\n",
              "      <th>148</th>\n",
              "      <td>6.2</td>\n",
              "      <td>3.4</td>\n",
              "      <td>5.4</td>\n",
              "      <td>2.3</td>\n",
              "      <td>virginica</td>\n",
              "    </tr>\n",
              "    <tr>\n",
              "      <th>149</th>\n",
              "      <td>5.9</td>\n",
              "      <td>3.0</td>\n",
              "      <td>5.1</td>\n",
              "      <td>1.8</td>\n",
              "      <td>virginica</td>\n",
              "    </tr>\n",
              "  </tbody>\n",
              "</table>\n",
              "<p>150 rows × 5 columns</p>\n",
              "</div>"
            ],
            "text/plain": [
              "     sepal_length  sepal_width  petal_length  petal_width    species\n",
              "0             5.1          3.5           1.4          0.2     setosa\n",
              "1             4.9          3.0           1.4          0.2     setosa\n",
              "2             4.7          3.2           1.3          0.2     setosa\n",
              "3             4.6          3.1           1.5          0.2     setosa\n",
              "4             5.0          3.6           1.4          0.2     setosa\n",
              "..            ...          ...           ...          ...        ...\n",
              "145           6.7          3.0           5.2          2.3  virginica\n",
              "146           6.3          2.5           5.0          1.9  virginica\n",
              "147           6.5          3.0           5.2          2.0  virginica\n",
              "148           6.2          3.4           5.4          2.3  virginica\n",
              "149           5.9          3.0           5.1          1.8  virginica\n",
              "\n",
              "[150 rows x 5 columns]"
            ]
          },
          "metadata": {
            "tags": []
          },
          "execution_count": 2
        }
      ]
    },
    {
      "cell_type": "code",
      "metadata": {
        "colab": {
          "base_uri": "https://localhost:8080/"
        },
        "id": "VdsyvJwpPKnY",
        "outputId": "1b3c4716-08d3-437d-afce-41acc0791d8f"
      },
      "source": [
        "df.isna().sum()"
      ],
      "execution_count": null,
      "outputs": [
        {
          "output_type": "execute_result",
          "data": {
            "text/plain": [
              "sepal_length    0\n",
              "sepal_width     0\n",
              "petal_length    0\n",
              "petal_width     0\n",
              "species         0\n",
              "dtype: int64"
            ]
          },
          "metadata": {
            "tags": []
          },
          "execution_count": 3
        }
      ]
    },
    {
      "cell_type": "code",
      "metadata": {
        "colab": {
          "base_uri": "https://localhost:8080/"
        },
        "id": "BqX_7EThQQAl",
        "outputId": "31983d22-1405-449b-db0f-d8c34db7a59c"
      },
      "source": [
        "df['species'].unique()"
      ],
      "execution_count": null,
      "outputs": [
        {
          "output_type": "execute_result",
          "data": {
            "text/plain": [
              "array(['setosa', 'versicolor', 'virginica'], dtype=object)"
            ]
          },
          "metadata": {
            "tags": []
          },
          "execution_count": 4
        }
      ]
    },
    {
      "cell_type": "code",
      "metadata": {
        "id": "EBPS-ZP8QX11"
      },
      "source": [
        "X=df.iloc[:,0:4]\n",
        "y=df.iloc[:,4]\n",
        "from sklearn.preprocessing import LabelEncoder\n",
        "le=LabelEncoder()\n",
        "y1=le.fit_transform(y)\n",
        "Y=pd.get_dummies(y1).values #converting categorical to binary"
      ],
      "execution_count": null,
      "outputs": []
    },
    {
      "cell_type": "code",
      "metadata": {
        "id": "YyBGGsrSTgAT"
      },
      "source": [
        "from sklearn.model_selection import train_test_split\n",
        "X_train,X_test,y_train,y_test=train_test_split(X,Y,test_size=0.25,random_state=0) #spliting data"
      ],
      "execution_count": null,
      "outputs": []
    },
    {
      "cell_type": "code",
      "metadata": {
        "id": "qrOMGR1YUqNl"
      },
      "source": [
        "model= Sequential() #model declaration\n",
        "model.add(Dense(4,input_shape=(4,), activation='relu')) # 4 because input=4 columns\n",
        "model.add(Dense(3,activation='softmax'))"
      ],
      "execution_count": null,
      "outputs": []
    },
    {
      "cell_type": "code",
      "metadata": {
        "id": "3PtcMQPXXzBH"
      },
      "source": [
        "model.compile(Adam(learning_rate=.001), loss='categorical_crossentropy', metrics=['accuracy'])"
      ],
      "execution_count": null,
      "outputs": []
    },
    {
      "cell_type": "code",
      "metadata": {
        "colab": {
          "base_uri": "https://localhost:8080/"
        },
        "id": "SmkzJvNHYA3s",
        "outputId": "24c0a71d-cceb-4b0e-d3eb-4681d66280e0"
      },
      "source": [
        "history1=model.fit(X_train,y_train,batch_size=10,epochs=100,validation_split=0.1)"
      ],
      "execution_count": null,
      "outputs": [
        {
          "output_type": "stream",
          "text": [
            "Epoch 1/100\n",
            "10/10 [==============================] - 0s 6ms/step - loss: 0.2143 - accuracy: 0.9800 - val_loss: 0.2330 - val_accuracy: 0.9167\n",
            "Epoch 2/100\n",
            "10/10 [==============================] - 0s 3ms/step - loss: 0.2121 - accuracy: 0.9700 - val_loss: 0.2362 - val_accuracy: 0.9167\n",
            "Epoch 3/100\n",
            "10/10 [==============================] - 0s 3ms/step - loss: 0.2102 - accuracy: 0.9700 - val_loss: 0.2358 - val_accuracy: 0.9167\n",
            "Epoch 4/100\n",
            "10/10 [==============================] - 0s 3ms/step - loss: 0.2090 - accuracy: 0.9700 - val_loss: 0.2272 - val_accuracy: 0.9167\n",
            "Epoch 5/100\n",
            "10/10 [==============================] - 0s 3ms/step - loss: 0.2065 - accuracy: 0.9700 - val_loss: 0.2321 - val_accuracy: 0.9167\n",
            "Epoch 6/100\n",
            "10/10 [==============================] - 0s 3ms/step - loss: 0.2045 - accuracy: 0.9700 - val_loss: 0.2297 - val_accuracy: 0.9167\n",
            "Epoch 7/100\n",
            "10/10 [==============================] - 0s 3ms/step - loss: 0.2026 - accuracy: 0.9700 - val_loss: 0.2249 - val_accuracy: 0.9167\n",
            "Epoch 8/100\n",
            "10/10 [==============================] - 0s 3ms/step - loss: 0.2008 - accuracy: 0.9700 - val_loss: 0.2240 - val_accuracy: 0.9167\n",
            "Epoch 9/100\n",
            "10/10 [==============================] - 0s 3ms/step - loss: 0.1990 - accuracy: 0.9800 - val_loss: 0.2192 - val_accuracy: 0.9167\n",
            "Epoch 10/100\n",
            "10/10 [==============================] - 0s 3ms/step - loss: 0.1974 - accuracy: 0.9700 - val_loss: 0.2214 - val_accuracy: 0.9167\n",
            "Epoch 11/100\n",
            "10/10 [==============================] - 0s 4ms/step - loss: 0.1953 - accuracy: 0.9700 - val_loss: 0.2162 - val_accuracy: 0.9167\n",
            "Epoch 12/100\n",
            "10/10 [==============================] - 0s 4ms/step - loss: 0.1943 - accuracy: 0.9700 - val_loss: 0.2174 - val_accuracy: 0.9167\n",
            "Epoch 13/100\n",
            "10/10 [==============================] - 0s 3ms/step - loss: 0.1927 - accuracy: 0.9800 - val_loss: 0.2083 - val_accuracy: 0.9167\n",
            "Epoch 14/100\n",
            "10/10 [==============================] - 0s 3ms/step - loss: 0.1902 - accuracy: 0.9800 - val_loss: 0.2114 - val_accuracy: 0.9167\n",
            "Epoch 15/100\n",
            "10/10 [==============================] - 0s 3ms/step - loss: 0.1890 - accuracy: 0.9700 - val_loss: 0.2146 - val_accuracy: 0.9167\n",
            "Epoch 16/100\n",
            "10/10 [==============================] - 0s 3ms/step - loss: 0.1869 - accuracy: 0.9700 - val_loss: 0.2110 - val_accuracy: 0.9167\n",
            "Epoch 17/100\n",
            "10/10 [==============================] - 0s 3ms/step - loss: 0.1855 - accuracy: 0.9800 - val_loss: 0.2063 - val_accuracy: 0.9167\n",
            "Epoch 18/100\n",
            "10/10 [==============================] - 0s 3ms/step - loss: 0.1836 - accuracy: 0.9800 - val_loss: 0.2042 - val_accuracy: 0.9167\n",
            "Epoch 19/100\n",
            "10/10 [==============================] - 0s 3ms/step - loss: 0.1829 - accuracy: 0.9800 - val_loss: 0.1979 - val_accuracy: 0.9167\n",
            "Epoch 20/100\n",
            "10/10 [==============================] - 0s 3ms/step - loss: 0.1806 - accuracy: 0.9800 - val_loss: 0.2035 - val_accuracy: 0.9167\n",
            "Epoch 21/100\n",
            "10/10 [==============================] - 0s 3ms/step - loss: 0.1794 - accuracy: 0.9800 - val_loss: 0.2033 - val_accuracy: 0.9167\n",
            "Epoch 22/100\n",
            "10/10 [==============================] - 0s 3ms/step - loss: 0.1776 - accuracy: 0.9800 - val_loss: 0.2021 - val_accuracy: 0.9167\n",
            "Epoch 23/100\n",
            "10/10 [==============================] - 0s 3ms/step - loss: 0.1771 - accuracy: 0.9800 - val_loss: 0.1919 - val_accuracy: 0.9167\n",
            "Epoch 24/100\n",
            "10/10 [==============================] - 0s 3ms/step - loss: 0.1757 - accuracy: 0.9800 - val_loss: 0.1981 - val_accuracy: 0.9167\n",
            "Epoch 25/100\n",
            "10/10 [==============================] - 0s 4ms/step - loss: 0.1734 - accuracy: 0.9800 - val_loss: 0.1995 - val_accuracy: 0.9167\n",
            "Epoch 26/100\n",
            "10/10 [==============================] - 0s 3ms/step - loss: 0.1725 - accuracy: 0.9800 - val_loss: 0.1905 - val_accuracy: 0.9167\n",
            "Epoch 27/100\n",
            "10/10 [==============================] - 0s 3ms/step - loss: 0.1704 - accuracy: 0.9800 - val_loss: 0.1927 - val_accuracy: 0.9167\n",
            "Epoch 28/100\n",
            "10/10 [==============================] - 0s 3ms/step - loss: 0.1690 - accuracy: 0.9800 - val_loss: 0.1898 - val_accuracy: 0.9167\n",
            "Epoch 29/100\n",
            "10/10 [==============================] - 0s 3ms/step - loss: 0.1677 - accuracy: 0.9800 - val_loss: 0.1907 - val_accuracy: 0.9167\n",
            "Epoch 30/100\n",
            "10/10 [==============================] - 0s 3ms/step - loss: 0.1665 - accuracy: 0.9800 - val_loss: 0.1913 - val_accuracy: 0.9167\n",
            "Epoch 31/100\n",
            "10/10 [==============================] - 0s 3ms/step - loss: 0.1652 - accuracy: 0.9700 - val_loss: 0.1896 - val_accuracy: 0.9167\n",
            "Epoch 32/100\n",
            "10/10 [==============================] - 0s 3ms/step - loss: 0.1636 - accuracy: 0.9800 - val_loss: 0.1851 - val_accuracy: 0.9167\n",
            "Epoch 33/100\n",
            "10/10 [==============================] - 0s 3ms/step - loss: 0.1629 - accuracy: 0.9800 - val_loss: 0.1857 - val_accuracy: 0.9167\n",
            "Epoch 34/100\n",
            "10/10 [==============================] - 0s 4ms/step - loss: 0.1609 - accuracy: 0.9800 - val_loss: 0.1781 - val_accuracy: 0.9167\n",
            "Epoch 35/100\n",
            "10/10 [==============================] - 0s 3ms/step - loss: 0.1601 - accuracy: 0.9800 - val_loss: 0.1742 - val_accuracy: 0.9167\n",
            "Epoch 36/100\n",
            "10/10 [==============================] - 0s 3ms/step - loss: 0.1591 - accuracy: 0.9800 - val_loss: 0.1823 - val_accuracy: 0.9167\n",
            "Epoch 37/100\n",
            "10/10 [==============================] - 0s 3ms/step - loss: 0.1589 - accuracy: 0.9700 - val_loss: 0.1863 - val_accuracy: 0.9167\n",
            "Epoch 38/100\n",
            "10/10 [==============================] - 0s 3ms/step - loss: 0.1599 - accuracy: 0.9800 - val_loss: 0.1679 - val_accuracy: 0.9167\n",
            "Epoch 39/100\n",
            "10/10 [==============================] - 0s 3ms/step - loss: 0.1551 - accuracy: 0.9800 - val_loss: 0.1747 - val_accuracy: 0.9167\n",
            "Epoch 40/100\n",
            "10/10 [==============================] - 0s 3ms/step - loss: 0.1537 - accuracy: 0.9800 - val_loss: 0.1772 - val_accuracy: 0.9167\n",
            "Epoch 41/100\n",
            "10/10 [==============================] - 0s 3ms/step - loss: 0.1531 - accuracy: 0.9800 - val_loss: 0.1808 - val_accuracy: 0.9167\n",
            "Epoch 42/100\n",
            "10/10 [==============================] - 0s 3ms/step - loss: 0.1518 - accuracy: 0.9800 - val_loss: 0.1746 - val_accuracy: 0.9167\n",
            "Epoch 43/100\n",
            "10/10 [==============================] - 0s 3ms/step - loss: 0.1505 - accuracy: 0.9800 - val_loss: 0.1740 - val_accuracy: 0.9167\n",
            "Epoch 44/100\n",
            "10/10 [==============================] - 0s 3ms/step - loss: 0.1500 - accuracy: 0.9800 - val_loss: 0.1734 - val_accuracy: 0.9167\n",
            "Epoch 45/100\n",
            "10/10 [==============================] - 0s 4ms/step - loss: 0.1482 - accuracy: 0.9800 - val_loss: 0.1681 - val_accuracy: 0.9167\n",
            "Epoch 46/100\n",
            "10/10 [==============================] - 0s 3ms/step - loss: 0.1471 - accuracy: 0.9800 - val_loss: 0.1656 - val_accuracy: 0.9167\n",
            "Epoch 47/100\n",
            "10/10 [==============================] - 0s 3ms/step - loss: 0.1464 - accuracy: 0.9800 - val_loss: 0.1640 - val_accuracy: 0.9167\n",
            "Epoch 48/100\n",
            "10/10 [==============================] - 0s 3ms/step - loss: 0.1455 - accuracy: 0.9800 - val_loss: 0.1705 - val_accuracy: 0.9167\n",
            "Epoch 49/100\n",
            "10/10 [==============================] - 0s 3ms/step - loss: 0.1466 - accuracy: 0.9800 - val_loss: 0.1607 - val_accuracy: 0.9167\n",
            "Epoch 50/100\n",
            "10/10 [==============================] - 0s 3ms/step - loss: 0.1428 - accuracy: 0.9800 - val_loss: 0.1653 - val_accuracy: 0.9167\n",
            "Epoch 51/100\n",
            "10/10 [==============================] - 0s 3ms/step - loss: 0.1422 - accuracy: 0.9800 - val_loss: 0.1662 - val_accuracy: 0.9167\n",
            "Epoch 52/100\n",
            "10/10 [==============================] - 0s 3ms/step - loss: 0.1418 - accuracy: 0.9800 - val_loss: 0.1711 - val_accuracy: 0.9167\n",
            "Epoch 53/100\n",
            "10/10 [==============================] - 0s 3ms/step - loss: 0.1405 - accuracy: 0.9800 - val_loss: 0.1625 - val_accuracy: 0.9167\n",
            "Epoch 54/100\n",
            "10/10 [==============================] - 0s 4ms/step - loss: 0.1391 - accuracy: 0.9800 - val_loss: 0.1604 - val_accuracy: 0.9167\n",
            "Epoch 55/100\n",
            "10/10 [==============================] - 0s 3ms/step - loss: 0.1381 - accuracy: 0.9800 - val_loss: 0.1615 - val_accuracy: 0.9167\n",
            "Epoch 56/100\n",
            "10/10 [==============================] - 0s 3ms/step - loss: 0.1374 - accuracy: 0.9800 - val_loss: 0.1576 - val_accuracy: 0.9167\n",
            "Epoch 57/100\n",
            "10/10 [==============================] - 0s 3ms/step - loss: 0.1366 - accuracy: 0.9800 - val_loss: 0.1629 - val_accuracy: 0.9167\n",
            "Epoch 58/100\n",
            "10/10 [==============================] - 0s 3ms/step - loss: 0.1355 - accuracy: 0.9800 - val_loss: 0.1573 - val_accuracy: 0.9167\n",
            "Epoch 59/100\n",
            "10/10 [==============================] - 0s 3ms/step - loss: 0.1343 - accuracy: 0.9800 - val_loss: 0.1552 - val_accuracy: 0.9167\n",
            "Epoch 60/100\n",
            "10/10 [==============================] - 0s 4ms/step - loss: 0.1337 - accuracy: 0.9800 - val_loss: 0.1577 - val_accuracy: 0.9167\n",
            "Epoch 61/100\n",
            "10/10 [==============================] - 0s 3ms/step - loss: 0.1325 - accuracy: 0.9800 - val_loss: 0.1553 - val_accuracy: 0.9167\n",
            "Epoch 62/100\n",
            "10/10 [==============================] - 0s 3ms/step - loss: 0.1323 - accuracy: 0.9800 - val_loss: 0.1496 - val_accuracy: 0.9167\n",
            "Epoch 63/100\n",
            "10/10 [==============================] - 0s 3ms/step - loss: 0.1309 - accuracy: 0.9800 - val_loss: 0.1530 - val_accuracy: 0.9167\n",
            "Epoch 64/100\n",
            "10/10 [==============================] - 0s 3ms/step - loss: 0.1309 - accuracy: 0.9800 - val_loss: 0.1597 - val_accuracy: 0.9167\n",
            "Epoch 65/100\n",
            "10/10 [==============================] - 0s 3ms/step - loss: 0.1310 - accuracy: 0.9800 - val_loss: 0.1458 - val_accuracy: 0.9167\n",
            "Epoch 66/100\n",
            "10/10 [==============================] - 0s 3ms/step - loss: 0.1289 - accuracy: 0.9800 - val_loss: 0.1544 - val_accuracy: 0.9167\n",
            "Epoch 67/100\n",
            "10/10 [==============================] - 0s 3ms/step - loss: 0.1280 - accuracy: 0.9800 - val_loss: 0.1482 - val_accuracy: 0.9167\n",
            "Epoch 68/100\n",
            "10/10 [==============================] - 0s 3ms/step - loss: 0.1286 - accuracy: 0.9800 - val_loss: 0.1427 - val_accuracy: 0.9167\n",
            "Epoch 69/100\n",
            "10/10 [==============================] - 0s 3ms/step - loss: 0.1259 - accuracy: 0.9800 - val_loss: 0.1521 - val_accuracy: 0.9167\n",
            "Epoch 70/100\n",
            "10/10 [==============================] - 0s 4ms/step - loss: 0.1252 - accuracy: 0.9800 - val_loss: 0.1527 - val_accuracy: 0.9167\n",
            "Epoch 71/100\n",
            "10/10 [==============================] - 0s 4ms/step - loss: 0.1248 - accuracy: 0.9800 - val_loss: 0.1482 - val_accuracy: 0.9167\n",
            "Epoch 72/100\n",
            "10/10 [==============================] - 0s 3ms/step - loss: 0.1235 - accuracy: 0.9800 - val_loss: 0.1478 - val_accuracy: 0.9167\n",
            "Epoch 73/100\n",
            "10/10 [==============================] - 0s 3ms/step - loss: 0.1228 - accuracy: 0.9800 - val_loss: 0.1482 - val_accuracy: 0.9167\n",
            "Epoch 74/100\n",
            "10/10 [==============================] - 0s 3ms/step - loss: 0.1221 - accuracy: 0.9800 - val_loss: 0.1456 - val_accuracy: 0.9167\n",
            "Epoch 75/100\n",
            "10/10 [==============================] - 0s 3ms/step - loss: 0.1228 - accuracy: 0.9800 - val_loss: 0.1404 - val_accuracy: 0.9167\n",
            "Epoch 76/100\n",
            "10/10 [==============================] - 0s 3ms/step - loss: 0.1209 - accuracy: 0.9800 - val_loss: 0.1457 - val_accuracy: 0.9167\n",
            "Epoch 77/100\n",
            "10/10 [==============================] - 0s 3ms/step - loss: 0.1203 - accuracy: 0.9800 - val_loss: 0.1407 - val_accuracy: 0.9167\n",
            "Epoch 78/100\n",
            "10/10 [==============================] - 0s 3ms/step - loss: 0.1196 - accuracy: 0.9800 - val_loss: 0.1478 - val_accuracy: 0.9167\n",
            "Epoch 79/100\n",
            "10/10 [==============================] - 0s 4ms/step - loss: 0.1187 - accuracy: 0.9800 - val_loss: 0.1460 - val_accuracy: 0.9167\n",
            "Epoch 80/100\n",
            "10/10 [==============================] - 0s 4ms/step - loss: 0.1180 - accuracy: 0.9800 - val_loss: 0.1414 - val_accuracy: 0.9167\n",
            "Epoch 81/100\n",
            "10/10 [==============================] - 0s 3ms/step - loss: 0.1170 - accuracy: 0.9800 - val_loss: 0.1394 - val_accuracy: 0.9167\n",
            "Epoch 82/100\n",
            "10/10 [==============================] - 0s 3ms/step - loss: 0.1167 - accuracy: 0.9800 - val_loss: 0.1349 - val_accuracy: 0.9167\n",
            "Epoch 83/100\n",
            "10/10 [==============================] - 0s 3ms/step - loss: 0.1161 - accuracy: 0.9800 - val_loss: 0.1404 - val_accuracy: 0.9167\n",
            "Epoch 84/100\n",
            "10/10 [==============================] - 0s 3ms/step - loss: 0.1151 - accuracy: 0.9800 - val_loss: 0.1405 - val_accuracy: 0.9167\n",
            "Epoch 85/100\n",
            "10/10 [==============================] - 0s 3ms/step - loss: 0.1143 - accuracy: 0.9800 - val_loss: 0.1378 - val_accuracy: 0.9167\n",
            "Epoch 86/100\n",
            "10/10 [==============================] - 0s 3ms/step - loss: 0.1138 - accuracy: 0.9800 - val_loss: 0.1345 - val_accuracy: 0.9167\n",
            "Epoch 87/100\n",
            "10/10 [==============================] - 0s 4ms/step - loss: 0.1139 - accuracy: 0.9800 - val_loss: 0.1403 - val_accuracy: 0.9167\n",
            "Epoch 88/100\n",
            "10/10 [==============================] - 0s 3ms/step - loss: 0.1124 - accuracy: 0.9800 - val_loss: 0.1385 - val_accuracy: 0.9167\n",
            "Epoch 89/100\n",
            "10/10 [==============================] - 0s 3ms/step - loss: 0.1125 - accuracy: 0.9800 - val_loss: 0.1313 - val_accuracy: 0.9167\n",
            "Epoch 90/100\n",
            "10/10 [==============================] - 0s 4ms/step - loss: 0.1117 - accuracy: 0.9800 - val_loss: 0.1303 - val_accuracy: 0.9167\n",
            "Epoch 91/100\n",
            "10/10 [==============================] - 0s 3ms/step - loss: 0.1108 - accuracy: 0.9800 - val_loss: 0.1321 - val_accuracy: 0.9167\n",
            "Epoch 92/100\n",
            "10/10 [==============================] - 0s 3ms/step - loss: 0.1100 - accuracy: 0.9800 - val_loss: 0.1341 - val_accuracy: 0.9167\n",
            "Epoch 93/100\n",
            "10/10 [==============================] - 0s 3ms/step - loss: 0.1097 - accuracy: 0.9800 - val_loss: 0.1321 - val_accuracy: 0.9167\n",
            "Epoch 94/100\n",
            "10/10 [==============================] - 0s 4ms/step - loss: 0.1099 - accuracy: 0.9800 - val_loss: 0.1385 - val_accuracy: 0.9167\n",
            "Epoch 95/100\n",
            "10/10 [==============================] - 0s 3ms/step - loss: 0.1095 - accuracy: 0.9800 - val_loss: 0.1309 - val_accuracy: 0.9167\n",
            "Epoch 96/100\n",
            "10/10 [==============================] - 0s 3ms/step - loss: 0.1078 - accuracy: 0.9800 - val_loss: 0.1346 - val_accuracy: 0.9167\n",
            "Epoch 97/100\n",
            "10/10 [==============================] - 0s 3ms/step - loss: 0.1070 - accuracy: 0.9800 - val_loss: 0.1346 - val_accuracy: 0.9167\n",
            "Epoch 98/100\n",
            "10/10 [==============================] - 0s 4ms/step - loss: 0.1073 - accuracy: 0.9800 - val_loss: 0.1269 - val_accuracy: 0.9167\n",
            "Epoch 99/100\n",
            "10/10 [==============================] - 0s 3ms/step - loss: 0.1060 - accuracy: 0.9800 - val_loss: 0.1300 - val_accuracy: 0.9167\n",
            "Epoch 100/100\n",
            "10/10 [==============================] - 0s 3ms/step - loss: 0.1057 - accuracy: 0.9800 - val_loss: 0.1337 - val_accuracy: 0.9167\n"
          ],
          "name": "stdout"
        }
      ]
    },
    {
      "cell_type": "code",
      "metadata": {
        "colab": {
          "base_uri": "https://localhost:8080/",
          "height": 547
        },
        "id": "d3jgt7G4eKqg",
        "outputId": "0571a17c-44b6-41de-e1fd-59d2a973f1ee"
      },
      "source": [
        "acc=history1.history['accuracy']\n",
        "val_acc=history1.history['val_accuracy']\n",
        "loss=history1.history['loss']\n",
        "val_loss=history1.history['val_loss']\n",
        "epochs=range(len(acc))\n",
        "\n",
        "import matplotlib.pyplot as plt\n",
        "#Training and validation accuracy per epoch\n",
        "plt.plot(epochs,acc,'b',label='Training Accuracy')\n",
        "plt.plot(epochs,val_acc,'r',label='Validation Accuracy')\n",
        "plt.legend()\n",
        "plt.figure()\n",
        "\n",
        "#Training and validation loss per epoch\n",
        "plt.plot(epochs,loss,'b',label='Training Loss')\n",
        "plt.plot(epochs,val_loss,'r',label='Validation Loss')\n",
        "plt.legend()\n",
        "plt.figure()"
      ],
      "execution_count": null,
      "outputs": [
        {
          "output_type": "execute_result",
          "data": {
            "text/plain": [
              "<Figure size 432x288 with 0 Axes>"
            ]
          },
          "metadata": {
            "tags": []
          },
          "execution_count": 11
        },
        {
          "output_type": "display_data",
          "data": {
            "image/png": "[encoded data removed]",
            "text/plain": [
              "<Figure size 432x288 with 1 Axes>"
            ]
          },
          "metadata": {
            "tags": [],
            "needs_background": "light"
          }
        },
        {
          "output_type": "display_data",
          "data": {
            "image/png": "[encoded data removed]",
            "text/plain": [
              "<Figure size 432x288 with 1 Axes>"
            ]
          },
          "metadata": {
            "tags": [],
            "needs_background": "light"
          }
        },
        {
          "output_type": "display_data",
          "data": {
            "text/plain": [
              "<Figure size 432x288 with 0 Axes>"
            ]
          },
          "metadata": {
            "tags": []
          }
        }
      ]
    },
    {
      "cell_type": "code",
      "metadata": {
        "id": "qX6yqYInYme8"
      },
      "source": [
        "y_pred=model.predict(X_test)\n",
        "y_test_class=np.argmax(y_test,axis=1)\n",
        "y_pred_class=np.argmax(y_pred,axis=1)"
      ],
      "execution_count": null,
      "outputs": []
    },
    {
      "cell_type": "code",
      "metadata": {
        "colab": {
          "base_uri": "https://localhost:8080/"
        },
        "id": "DzRVYMfgZf-V",
        "outputId": "6be309f0-ace8-4949-f419-36f7ff6d80db"
      },
      "source": [
        "from sklearn.metrics import confusion_matrix, classification_report\n",
        "print(\"Classification Report: \\n\",classification_report(y_test_class,y_pred_class))\n",
        "print(\"Confusion Matrix: \\n\", confusion_matrix(y_test_class,y_pred_class))"
      ],
      "execution_count": null,
      "outputs": [
        {
          "output_type": "stream",
          "text": [
            "Classification Report: \n",
            "               precision    recall  f1-score   support\n",
            "\n",
            "           0       1.00      1.00      1.00        13\n",
            "           1       1.00      0.88      0.93        16\n",
            "           2       0.82      1.00      0.90         9\n",
            "\n",
            "    accuracy                           0.95        38\n",
            "   macro avg       0.94      0.96      0.94        38\n",
            "weighted avg       0.96      0.95      0.95        38\n",
            "\n",
            "Confusion Matrix: \n",
            " [[13  0  0]\n",
            " [ 0 14  2]\n",
            " [ 0  0  9]]\n"
          ],
          "name": "stdout"
        }
      ]
    },
    {
      "cell_type": "code",
      "metadata": {
        "id": "HDE6aGwB8W9S"
      },
      "source": [
        ""
      ],
      "execution_count": null,
      "outputs": []
    }
  ]
}